{
 "cells": [
  {
   "cell_type": "code",
   "execution_count": 173,
   "metadata": {},
   "outputs": [],
   "source": [
    "import langchain\n",
    "import huggingface_hub\n",
    "from langchain_huggingface import HuggingFaceEndpoint\n",
    "from langchain_core.prompts import ChatPromptTemplate\n",
    "from langchain.chains import LLMChain\n",
    "from langchain_groq import ChatGroq\n",
    "import pypdf\n",
    "from langchain_community.document_loaders import PyPDFLoader\n",
    "from langchain_text_splitters import RecursiveCharacterTextSplitter\n",
    "from langchain.schema.document import Document"
   ]
  },
  {
   "cell_type": "code",
   "execution_count": 51,
   "metadata": {},
   "outputs": [],
   "source": [
    "key=\"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\""
   ]
  },
  {
   "cell_type": "code",
   "execution_count": 53,
   "metadata": {},
   "outputs": [],
   "source": [
    "llm = ChatGroq(\n",
    "    api_key=key\n",
    ")\n"
   ]
  },
  {
   "cell_type": "code",
   "execution_count": 43,
   "metadata": {},
   "outputs": [],
   "source": [
    "import os\n",
    "os.environ[\"HUGGINGFACEHUB_API_TOKEN\"] = key"
   ]
  },
  {
   "cell_type": "code",
   "execution_count": 74,
   "metadata": {},
   "outputs": [],
   "source": [
    "prompt=ChatPromptTemplate.from_template(\"how won first {devi}\")"
   ]
  },
  {
   "cell_type": "code",
   "execution_count": 75,
   "metadata": {},
   "outputs": [],
   "source": [
    "chain=prompt | llm"
   ]
  },
  {
   "cell_type": "code",
   "execution_count": 78,
   "metadata": {},
   "outputs": [
    {
     "name": "stdout",
     "output_type": "stream",
     "text": [
      "The first One Day International (ODI) match in cricket history was played between Australia and England at the Melbourne Cricket Ground (MCG) on January 5, 1971. Australia won the match by 5 wickets.\n",
      "\n",
      "In this historic match, England won the toss and elected to bat first. They scored 190 runs in 59.2 overs, with John Edrich top-scoring with 82 runs. In response, Australia chased down the target in 58.4 overs, with Ian Chappell scoring 52 runs and Greg Chappell scoring 51 runs.\n",
      "\n",
      "This match was played under experimental rules, with each team batting for 40 overs and fielding restrictions in place to encourage attacking cricket. The success of this match led to the development of One Day International cricket as a regular feature of the game.\n"
     ]
    }
   ],
   "source": [
    "print(chain.invoke(\"odi\").content)"
   ]
  },
  {
   "cell_type": "code",
   "execution_count": 93,
   "metadata": {},
   "outputs": [],
   "source": [
    "path=r\"D:\\my rag\\src\\data\\DevCv31july2024M.pdf\""
   ]
  },
  {
   "cell_type": "code",
   "execution_count": null,
   "metadata": {},
   "outputs": [
    {
     "data": {
      "text/plain": [
       "{'source': 'D:\\\\my rag\\\\src\\\\data\\\\DevCv31july2024M.pdf', 'page': 0}"
      ]
     },
     "execution_count": 96,
     "metadata": {},
     "output_type": "execute_result"
    }
   ],
   "source": [
    "loader=PyPDFLoader(path)\n",
    "docs=[]\n",
    "doc_load=loader.lazy_load()\n",
    "for doc in doc_load:\n",
    "    docs.append(doc)\n"
   ]
  },
  {
   "cell_type": "code",
   "execution_count": 194,
   "metadata": {},
   "outputs": [],
   "source": [
    "text_split=RecursiveCharacterTextSplitter(\n",
    "    chunk_size=300,\n",
    "    chunk_overlap=20,\n",
    "    length_function=len,\n",
    "    is_separator_regex=False,\n",
    ")"
   ]
  },
  {
   "cell_type": "code",
   "execution_count": 195,
   "metadata": {},
   "outputs": [
    {
     "data": {
      "text/plain": [
       "['hlo hi']"
      ]
     },
     "execution_count": 195,
     "metadata": {},
     "output_type": "execute_result"
    }
   ],
   "source": [
    "text_split.split_text(\"hlo hi\")"
   ]
  },
  {
   "cell_type": "code",
   "execution_count": 196,
   "metadata": {},
   "outputs": [],
   "source": [
    "text=text_split.create_documents([docs[0].page_content])"
   ]
  },
  {
   "cell_type": "code",
   "execution_count": 197,
   "metadata": {},
   "outputs": [],
   "source": [
    "meta_data_prompt = \"\"\" You are a text categorization model. Your task is to analyze the provided text and classify it based on what it indicates about the personality of the person being described. Identify key personality traits, behaviors, interests, emotional tendencies, or if it is a story about the person. Remember for every prompt give only  Return the result as a single string indicating the content category. This are one of the possible content categories are: \"personality traits\", \"behaviors\", \"interests\", \"emotional tendencies\", \"skills\", \"experiences\", \"hobbies\", \"story\", or \"other\". Example: Input: \"He is a kind and generous person.\" Output: \"personality traits\" Input: \"She loves playing the piano and enjoys reading books.\" Output: \"interests\" Input: \"He tends to be very organized and punctual.\" Output: \"behaviors\" Input: \"She often feels anxious in large crowds.\" Output: \"emotional tendencies\" Input: \"He is excellent at programming in Python.\" Output: \"skills\" Input: \"She traveled across Europe last summer.\" Output: \"experiences\" Input: \"He enjoys hiking and photography.\" Output: \"hobbies\" Input: \"Once upon a time, he decided to travel the world and had many adventures.\" Output: \"story\" Now, analyze the following text: \"{input_text}\" Return only the content category as a single string. \"\"\""
   ]
  },
  {
   "cell_type": "code",
   "execution_count": 198,
   "metadata": {},
   "outputs": [],
   "source": [
    "meta_data_prompt_temp=ChatPromptTemplate.from_template(meta_data_prompt)\n",
    "meta_data_chain=meta_data_prompt_temp |llm\n",
    "def get_meta_data(user_prompt):\n",
    "    return meta_data_chain.invoke({\"input_text\":user_prompt}).content\n",
    "    "
   ]
  },
  {
   "cell_type": "code",
   "execution_count": 199,
   "metadata": {},
   "outputs": [
    {
     "data": {
      "text/plain": [
       "'\"behaviors\"'"
      ]
     },
     "execution_count": 199,
     "metadata": {},
     "output_type": "execute_result"
    }
   ],
   "source": [
    "get_meta_data(\"one day his frnds got in to a fight and he coudent abele to do anything\")"
   ]
  },
  {
   "cell_type": "code",
   "execution_count": null,
   "metadata": {},
   "outputs": [
    {
     "name": "stdout",
     "output_type": "stream",
     "text": [
      "Output: \"other\"\n",
      "\"skills\"\n",
      "Based on the provided text, the content category is \"skills\". This is because the text mainly discusses the tools, platforms, and programming languages that the person is familiar with, which are indicative of their skills.\n",
      "\"projects\"\n",
      "\"other\"\n",
      "\"skills\"\n",
      "\"skills, experiences\"\n",
      "\"skills, experiences\"\n",
      "\"skills, experiences\"\n",
      "\"skills\"\n",
      "\"experiences\"\n",
      "\"experiences\"\n",
      "\"other\"\n",
      "\"other\"\n",
      "\"skills\"\n",
      "\"skills, experiences\"\n",
      "\"skills, behaviors\"\n"
     ]
    }
   ],
   "source": [
    "chuncks=[]\n",
    "for doc in docs:\n",
    "    for chunck in text_split.split_text(doc.page_content):\n",
    "        meta_data=get_meta_data(chunck)\n",
    "        chuncks.append(Document(\n",
    "            page_content=chunck,\n",
    "            metadata={\n",
    "                \"name\":\"Devi Sri Ranga Prasad Gudimetla\",\n",
    "                \"index\":meta_data\n",
    "            }\n",
    "        ))\n",
    "        print(meta_data)"
   ]
  },
  {
   "cell_type": "code",
   "execution_count": 207,
   "metadata": {},
   "outputs": [
    {
     "data": {
      "text/plain": [
       "[Document(metadata={'name': 'Devi Sri Ranga Prasad Gudimetla', 'index': 'Output: \"other\"'}, page_content='G.Devi Sri Ranga Prasad \\nLinkedin: g-devi-sri-ranga-prasad                                                                                        Email: devisrprasad948@gmail.com'),\n",
       " Document(metadata={'name': 'Devi Sri Ranga Prasad Gudimetla', 'index': '\"skills\"'}, page_content='GitHub:-  https://github.com/dspStudent                                                            Mobile:  +91-7032857480 \\nSKILLS SUMMARY \\n• Languages: C++, C, Core Java, Python, R , kotlin \\n• Technologies: HTML , CSS, Java Script, Java Spring Boot, Spring Security 6'),\n",
       " Document(metadata={'name': 'Devi Sri Ranga Prasad Gudimetla', 'index': 'Based on the provided text, the content category is \"skills\". This is because the text mainly discusses the tools, platforms, and programming languages that the person is familiar with, which are indicative of their skills.'}, page_content='• Tools/Platforms: MySQL, MongoDB \\n• Data Analysis:          Excel, Tabuleo  \\nINTERNSHIP  \\n• R Programing language:                                                                                                                             June 2023'),\n",
       " Document(metadata={'name': 'Devi Sri Ranga Prasad Gudimetla', 'index': '\"projects\"'}, page_content='PROJECTS \\n• Anime List Backend Api:'),\n",
       " Document(metadata={'name': 'Devi Sri Ranga Prasad Gudimetla', 'index': '\"other\"'}, page_content='• Api Link :- https://naa-anime-list-backend-api.onrender.com/login                                         \\n• Users can keep track of the anime they have watched'),\n",
       " Document(metadata={'name': 'Devi Sri Ranga Prasad Gudimetla', 'index': '\"skills\"'}, page_content='• The security is robust because it contains OAuth 2.0 and JWT token verification.  And also The Animes Collection has 14k+ \\nrecords   \\n• Developed proficiently in Spring Boot Security 6, with APIs and MongoDB as well. \\n• Rock paper scissor game:'),\n",
       " Document(metadata={'name': 'Devi Sri Ranga Prasad Gudimetla', 'index': '\"skills, experiences\"'}, page_content='• AI-based project where the player competes against the computer.                                                             Jul 2023 \\n• Utilizes OpenCV and Media Pipe for hand gesture recognition.'),\n",
       " Document(metadata={'name': 'Devi Sri Ranga Prasad Gudimetla', 'index': '\"skills, experiences\"'}, page_content='• Developed proficiency in Python and learned to implement computer vision and machine learning techniques. \\n• Airbnb data analysis: \\n• Conducted a comprehensive analysis of Airbnb pricing patterns to understand market dynamics.      Jun 2023'),\n",
       " Document(metadata={'name': 'Devi Sri Ranga Prasad Gudimetla', 'index': '\"skills, experiences\"'}, page_content='• Developed a predictive model capable of estimating Airbnb rental prices.  \\n• Enhanced data analytics skills, particularly in R programming, and gained insights into the factors influencing \\naccommodation pricing.  \\nACHIEVEMENTS'),\n",
       " Document(metadata={'name': 'Devi Sri Ranga Prasad Gudimetla', 'index': '\"skills\"'}, page_content='ACHIEVEMENTS  \\n• Solved 370+ Questions in LeetCode , 100+ Streak in LeetCode and GFG, CodeCheff Max Rating 1503,  GFG Max Rating 1780, \\nLeetCode Max Rating 1489 \\nCERTIFICATES \\n• R programing || Board infinity Jul 2023 \\n \\n• Java ||Hacker Rank  Feb 2022 \\n \\n• Python || Coursera   Nov 2022'),\n",
       " Document(metadata={'name': 'Devi Sri Ranga Prasad Gudimetla', 'index': '\"experiences\"'}, page_content='• C, C++ || Coursera Dec 2021 \\nEDUCATION \\nLovely Professional  University                                                               Phagwara, IN'),\n",
       " Document(metadata={'name': 'Devi Sri Ranga Prasad Gudimetla', 'index': '\"experiences\"'}, page_content='B.Tech. in Computer Science 76%                                                                                                                             2021-2025'),\n",
       " Document(metadata={'name': 'Devi Sri Ranga Prasad Gudimetla', 'index': '\"other\"'}, page_content='Narayana Junior College                                                                                                                                Andhra Pradesh, IN'),\n",
       " Document(metadata={'name': 'Devi Sri Ranga Prasad Gudimetla', 'index': '\"other\"'}, page_content='Intermediate 96.5%                                                                                                                                                    2019-2021'),\n",
       " Document(metadata={'name': 'Devi Sri Ranga Prasad Gudimetla', 'index': '\"skills\"'}, page_content='Narayana High School                                                                                                                                      Andhra Pradesh, IN   \\n     10th class 95% \\n      \\n• Embarked on a steep learning curve to master R programming and data analysis techniques.'),\n",
       " Document(metadata={'name': 'Devi Sri Ranga Prasad Gudimetla', 'index': '\"skills, experiences\"'}, page_content='• Overcame initial challenges through dedicated study and hands -on practice with real datasets.  \\n• Transitioned from finding data analysis challenging to enjoying the intricacies of data interpretation and model creation.'),\n",
       " Document(metadata={'name': 'Devi Sri Ranga Prasad Gudimetla', 'index': '\"skills, behaviors\"'}, page_content='• Applied newly acquired R programming skills to contribute meaningfully to a project, demonstrating the ability to learn  \\n• and apply new technologies effectively.     \\n \\n2018-2019')]"
      ]
     },
     "execution_count": 207,
     "metadata": {},
     "output_type": "execute_result"
    }
   ],
   "source": [
    "chuncks"
   ]
  },
  {
   "cell_type": "code",
   "execution_count": null,
   "metadata": {},
   "outputs": [],
   "source": []
  }
 ],
 "metadata": {
  "kernelspec": {
   "display_name": ".venv",
   "language": "python",
   "name": "python3"
  },
  "language_info": {
   "codemirror_mode": {
    "name": "ipython",
    "version": 3
   },
   "file_extension": ".py",
   "mimetype": "text/x-python",
   "name": "python",
   "nbconvert_exporter": "python",
   "pygments_lexer": "ipython3",
   "version": "3.12.5"
  }
 },
 "nbformat": 4,
 "nbformat_minor": 2
}
